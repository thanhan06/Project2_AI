{
 "cells": [
  {
   "cell_type": "markdown",
   "id": "7b19d9ef",
   "metadata": {},
   "source": [
    "# Palmer Penguins Dataset Analysis\n",
    "## CS14003 - Project 2: Decision Tree\n",
    "\n",
    "**Dataset**: Palmer Penguins Dataset  \n",
    "**Task**: Multi-class classification (Species: Adelie, Chinstrap, Gentoo)  \n",
    "**Samples**: 344  \n",
    "**Features**: Physical characteristics (bill, flipper, body mass, etc.)"
   ]
  },
  {
   "cell_type": "code",
   "execution_count": null,
   "id": "e46d51a4",
   "metadata": {},
   "outputs": [],
   "source": [
    "# Import required libraries\n",
    "import pandas as pd\n",
    "import numpy as np\n",
    "import matplotlib.pyplot as plt\n",
    "import seaborn as sns\n",
    "from sklearn.model_selection import train_test_split\n",
    "from sklearn.tree import DecisionTreeClassifier\n",
    "from sklearn.metrics import classification_report, confusion_matrix, accuracy_score\n",
    "from sklearn.preprocessing import LabelEncoder\n",
    "import warnings\n",
    "warnings.filterwarnings('ignore')\n",
    "\n",
    "# Import custom utilities\n",
    "import sys\n",
    "sys.path.append('../')\n",
    "from utils.preprocess import *\n",
    "from utils.train_model import *\n",
    "from utils.visualize import *\n",
    "# Set random seed for reproducibility\n",
    "np.random.seed(42)\n",
    "\n",
    "print(\"=\"*60)\n",
    "print(\"PALMER PENGUINS DATASET ANALYSIS\")\n",
    "print(\"=\"*60)\n"
   ]
  },
  {
   "cell_type": "markdown",
   "id": "cf1cd436",
   "metadata": {},
   "source": [
    "## 1. Data Loading and Exploration"
   ]
  }
 ],
 "metadata": {
  "kernelspec": {
   "display_name": "Python 3",
   "language": "python",
   "name": "python3"
  },
  "language_info": {
   "name": "python",
   "version": "3.13.3"
  }
 },
 "nbformat": 4,
 "nbformat_minor": 5
}
